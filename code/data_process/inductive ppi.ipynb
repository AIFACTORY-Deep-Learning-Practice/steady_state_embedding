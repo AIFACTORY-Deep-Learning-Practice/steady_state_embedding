{
 "cells": [
  {
   "cell_type": "code",
   "execution_count": 5,
   "metadata": {},
   "outputs": [],
   "source": [
    "import json\n",
    "import networkx as nx\n",
    "import numpy as np\n",
    "\n",
    "data_root='../../dropbox/data/ind_ppi/'\n",
    "\n",
    "from networkx.readwrite import json_graph\n",
    "G_data = json.load(open(data_root + \"/ppi-G.json\"))\n",
    "G = json_graph.node_link_graph(G_data)\n",
    "\n",
    "feats = np.load('%s/ppi-feats.npy' % data_root)\n",
    "labels = json.load(open(data_root + \"/ppi-class_map.json\"))\n",
    "self_loop = 1"
   ]
  },
  {
   "cell_type": "code",
   "execution_count": 6,
   "metadata": {},
   "outputs": [],
   "source": [
    "import os\n",
    "out_root='../../dropbox/data/ppi-self-%d' % self_loop\n",
    "if not os.path.isdir(out_root):\n",
    "    os.mkdir(out_root)\n"
   ]
  },
  {
   "cell_type": "code",
   "execution_count": 56,
   "metadata": {},
   "outputs": [],
   "source": [
    "with open('%s/adj_list.txt' % out_root, 'w') as f:\n",
    "    for i in range(len(G)):\n",
    "        edges = set(G.neighbors(i))\n",
    "        assert len(G.neighbors(i)) == len(edges)\n",
    "        if i in edges:\n",
    "            if not self_loop:\n",
    "                edges.remove(i)\n",
    "        f.write('%d' % len(edges))\n",
    "        for e in edges:\n",
    "            f.write(' %d' % e)\n",
    "        f.write('\\n')"
   ]
  },
  {
   "cell_type": "code",
   "execution_count": 7,
   "metadata": {},
   "outputs": [],
   "source": [
    "with open('%s/meta.txt' % out_root, 'w') as f:\n",
    "    f.write('%d %d %d\\n' % (len(G), len(labels['0']), feats.shape[1]))\n",
    "    \n",
    "# with open('%s/features.txt' % out_root, 'w') as f:\n",
    "#     for i in range(feats.shape[0]):\n",
    "#         feat = []\n",
    "#         for j in range(feats.shape[1]):\n",
    "#             if feats[i, j] > 0:\n",
    "#                 feat.append('%d:%.2f' % (j, feats[i, j]))\n",
    "#         f.write('%d' % len(feat))\n",
    "#         for w in feat:\n",
    "#             f.write(' %s' % w)\n",
    "#         f.write('\\n')\n",
    "with open('%s/features.txt' % out_root, 'w') as f:\n",
    "    for i in range(feats.shape[0]):\n",
    "        for j in range(feats.shape[1]):\n",
    "            if j:\n",
    "                f.write(' ')\n",
    "            f.write('%.2f' % feats[i, j])\n",
    "        f.write('\\n')"
   ]
  },
  {
   "cell_type": "code",
   "execution_count": 58,
   "metadata": {},
   "outputs": [],
   "source": [
    "with open('%s/label.txt' % out_root, 'w') as f:\n",
    "    for i in range(len(G)):\n",
    "        l = labels[str(i)]\n",
    "        for j in range(len(l)):\n",
    "            if j:\n",
    "                f.write(' ')\n",
    "            f.write('%d' % l[j])\n",
    "        f.write('\\n')"
   ]
  },
  {
   "cell_type": "code",
   "execution_count": 59,
   "metadata": {},
   "outputs": [],
   "source": [
    "train_list = []\n",
    "val_list = []\n",
    "test_list = []\n",
    "\n",
    "for i in range(len(G)):\n",
    "    if G.node[i]['test']:\n",
    "        test_list.append(i)\n",
    "    elif G.node[i]['val']:\n",
    "        val_list.append(i)\n",
    "    else:\n",
    "        train_list.append(i)"
   ]
  },
  {
   "cell_type": "code",
   "execution_count": 60,
   "metadata": {},
   "outputs": [],
   "source": [
    "with open('%s/train_idx.txt' % out_root, 'w') as f:\n",
    "    for i in train_list:\n",
    "        f.write('%d\\n' % i)\n",
    "with open('%s/val_idx.txt' % out_root, 'w') as f:\n",
    "    for i in val_list:\n",
    "        f.write('%d\\n' % i)\n",
    "with open('%s/test_idx.txt' % out_root, 'w') as f:\n",
    "    for i in test_list:\n",
    "        f.write('%d\\n' % i)\n"
   ]
  },
  {
   "cell_type": "code",
   "execution_count": 24,
   "metadata": {},
   "outputs": [],
   "source": [
    "id_map = json.load(open(data_root + \"/ppi-id_map.json\"))"
   ]
  },
  {
   "cell_type": "code",
   "execution_count": 28,
   "metadata": {},
   "outputs": [],
   "source": [
    "class_map = json.load(open(data_root + \"/ppi-class_map.json\"))"
   ]
  },
  {
   "cell_type": "code",
   "execution_count": 34,
   "metadata": {},
   "outputs": [
    {
     "data": {
      "text/plain": [
       "list"
      ]
     },
     "execution_count": 34,
     "metadata": {},
     "output_type": "execute_result"
    }
   ],
   "source": [
    "type(class_map['0'])"
   ]
  },
  {
   "cell_type": "code",
   "execution_count": 7,
   "metadata": {},
   "outputs": [
    {
     "name": "stdout",
     "output_type": "stream",
     "text": [
      "0\n",
      "44905 0 44906\n"
     ]
    }
   ],
   "source": [
    "train_list = []\n",
    "broken_count= 0\n",
    "for node in G.nodes():\n",
    "    if not 'val' in G.node[node] or not 'test' in G.node[node]:\n",
    "        G.remove_node(node)\n",
    "        broken_count += 1\n",
    "    if not G.node[node]['val'] and not G.node[node]['test']:\n",
    "        train_list.append(node)\n",
    "print(broken_count)\n",
    "print(max(train_list), min(train_list), len(train_list))"
   ]
  }
 ],
 "metadata": {
  "kernelspec": {
   "display_name": "Python 3",
   "language": "python",
   "name": "python3"
  },
  "language_info": {
   "codemirror_mode": {
    "name": "ipython",
    "version": 3
   },
   "file_extension": ".py",
   "mimetype": "text/x-python",
   "name": "python",
   "nbconvert_exporter": "python",
   "pygments_lexer": "ipython3",
   "version": "3.5.2"
  }
 },
 "nbformat": 4,
 "nbformat_minor": 2
}
