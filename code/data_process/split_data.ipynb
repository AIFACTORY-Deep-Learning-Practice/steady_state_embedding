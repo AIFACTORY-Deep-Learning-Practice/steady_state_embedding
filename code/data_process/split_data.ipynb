{
 "cells": [
  {
   "cell_type": "code",
   "execution_count": 5,
   "metadata": {},
   "outputs": [
    {
     "name": "stdout",
     "output_type": "stream",
     "text": [
      "pubmed 19717\n"
     ]
    }
   ],
   "source": [
    "import sys\n",
    "import os\n",
    "import numpy as np\n",
    "import random\n",
    "data = 'pubmed'\n",
    "\n",
    "with open('../../dropbox/data/%s/meta.txt' % data, 'r') as f:\n",
    "    num_nodes = int(f.readline().split()[0])\n",
    "    \n",
    "print data, num_nodes"
   ]
  },
  {
   "cell_type": "code",
   "execution_count": 6,
   "metadata": {},
   "outputs": [],
   "source": [
    "output_folder = '../../dropbox/data/%s' % data\n",
    "\n",
    "idxes = range(num_nodes)\n",
    "random.shuffle(idxes)\n",
    "\n",
    "t = int(len(idxes) * 0.9)    \n",
    "\n",
    "with open(output_folder + '/test_idx.txt', 'w') as f:\n",
    "    for i in range(t, len(idxes)):\n",
    "        f.write('%d\\n' % idxes[i])\n",
    "\n",
    "for i in range(9):\n",
    "    frac = (i + 1) * 0.1\n",
    "    num_train = int(len(idxes) * frac)\n",
    "    with open(output_folder + '/train_idx-%.1f.txt' % frac, 'w') as f:\n",
    "        for i in range(num_train):\n",
    "            f.write('%d\\n' % idxes[i])"
   ]
  }
 ],
 "metadata": {
  "kernelspec": {
   "display_name": "Python 3",
   "language": "python",
   "name": "python3"
  },
  "language_info": {
   "codemirror_mode": {
    "name": "ipython",
    "version": 3
   },
   "file_extension": ".py",
   "mimetype": "text/x-python",
   "name": "python",
   "nbconvert_exporter": "python",
   "pygments_lexer": "ipython3",
   "version": "3.5.2"
  }
 },
 "nbformat": 4,
 "nbformat_minor": 1
}
