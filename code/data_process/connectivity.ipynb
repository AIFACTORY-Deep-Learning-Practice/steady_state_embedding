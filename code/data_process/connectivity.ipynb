{
 "cells": [
  {
   "cell_type": "code",
   "execution_count": 1,
   "metadata": {
    "collapsed": true
   },
   "outputs": [],
   "source": [
    "import os\n",
    "import numpy as np\n",
    "import networkx as nx\n",
    "\n"
   ]
  },
  {
   "cell_type": "code",
   "execution_count": 11,
   "metadata": {},
   "outputs": [],
   "source": [
    "dataset = 'blogcatalog'\n",
    "\n",
    "raw_folder = '../../dropbox/data/%s' % dataset\n",
    "output_folder = '../../dropbox/data/%s-connect' % dataset\n",
    "\n",
    "if not os.path.isdir(output_folder):\n",
    "    os.makedirs(output_folder)\n",
    "\n",
    "    \n",
    "with open('%s/adj_list.txt' % output_folder, 'w') as fout:\n",
    "    with open('%s/meta.txt' % raw_folder, 'r') as f_meta:\n",
    "        w = f_meta.readline().split()\n",
    "        n_nodes = int(w[0])\n",
    "    with open('%s/label.txt' % output_folder, 'w') as flabel:\n",
    "        for i in range(n_nodes):\n",
    "            flabel.write('0 1\\n')\n",
    "        for i in range(n_nodes):\n",
    "            flabel.write('1 0\\n')\n",
    "    with open('%s/meta.txt' % output_folder, 'w') as f_meta:\n",
    "        f_meta.write('%d %d\\n' % (n_nodes * 2, 2))\n",
    "        \n",
    "    with open('%s/adj_list.txt' % raw_folder, 'r') as fin:\n",
    "        for row in fin:\n",
    "            fout.write(row)\n",
    "            \n",
    "    with open('%s/adj_list.txt' % raw_folder, 'r') as fin:\n",
    "        for row in fin:\n",
    "            row = row.split()\n",
    "            fout.write('%s' % row[0])\n",
    "            for i in range(1, len(row)):\n",
    "                fout.write(' %d' % (int(row[i]) + n_nodes))\n",
    "            fout.write('\\n')\n",
    "    \n",
    "    "
   ]
  },
  {
   "cell_type": "code",
   "execution_count": 12,
   "metadata": {
    "collapsed": true
   },
   "outputs": [],
   "source": [
    "dataset = 'n-chains'\n",
    "\n",
    "output_folder = '../../dropbox/data/%s-connect' % dataset\n",
    "\n",
    "if not os.path.isdir(output_folder):\n",
    "    os.makedirs(output_folder)\n",
    "\n",
    "n_nodes = 1000\n",
    "with open('%s/meta.txt' % output_folder, 'w') as f_meta:\n",
    "    f_meta.write('%d %d\\n' % (n_nodes * 2, 2))\n",
    "        \n",
    "with open('%s/adj_list.txt' % output_folder, 'w') as fout:\n",
    "    with open('%s/label.txt' % output_folder, 'w') as flabel:\n",
    "        for i in range(n_nodes):\n",
    "            flabel.write('0 1\\n')\n",
    "        for i in range(n_nodes):\n",
    "            flabel.write('1 0\\n')\n",
    "\n",
    "    for i in range(n_nodes):\n",
    "        if i > 0 and i < n_nodes - 1:\n",
    "            fout.write('2')\n",
    "        else:\n",
    "            fout.write('1')\n",
    "        if i > 0:\n",
    "            fout.write(' %d' % (i - 1))\n",
    "        if i < n_nodes - 1:\n",
    "            fout.write(' %d' % (i + 1))\n",
    "        fout.write('\\n')\n",
    "        \n",
    "    for i in range(n_nodes):\n",
    "        if i > 0 and i < n_nodes - 1:\n",
    "            fout.write('2')\n",
    "        else:\n",
    "            fout.write('1')\n",
    "        if i > 0:\n",
    "            fout.write(' %d' % (n_nodes + i - 1))\n",
    "        if i < n_nodes - 1:\n",
    "            fout.write(' %d' % (n_nodes + i + 1))\n",
    "        fout.write('\\n')\n",
    "    "
   ]
  }
 ],
 "metadata": {
  "kernelspec": {
   "display_name": "Python 3",
   "language": "python",
   "name": "python3"
  },
  "language_info": {
   "codemirror_mode": {
    "name": "ipython",
    "version": 3
   },
   "file_extension": ".py",
   "mimetype": "text/x-python",
   "name": "python",
   "nbconvert_exporter": "python",
   "pygments_lexer": "ipython3",
   "version": "3.5.2"
  }
 },
 "nbformat": 4,
 "nbformat_minor": 2
}
