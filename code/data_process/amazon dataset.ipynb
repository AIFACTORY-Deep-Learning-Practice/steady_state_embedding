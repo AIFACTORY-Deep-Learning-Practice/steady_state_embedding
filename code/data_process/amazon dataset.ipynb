{
 "cells": [
  {
   "cell_type": "code",
   "execution_count": 127,
   "metadata": {
    "collapsed": true
   },
   "outputs": [],
   "source": [
    "import numpy as np\n",
    "import os\n",
    "import scipy.io as sio\n",
    "from collections import Counter\n",
    "import random\n",
    "import shutil\n",
    "\n",
    "dataset = 'amazon'\n",
    "data_root = '../../dropbox/raw_data/%s' % dataset"
   ]
  },
  {
   "cell_type": "code",
   "execution_count": 128,
   "metadata": {},
   "outputs": [
    {
     "name": "stdout",
     "output_type": "stream",
     "text": [
      "58 282848 746398\n"
     ]
    }
   ],
   "source": [
    "cnts = []\n",
    "parties = []\n",
    "ss = 'all'\n",
    "node_labels = {}\n",
    "row_idx = 0\n",
    "with open(data_root + '/com-%s.%s.cmty.txt' % (dataset, ss), 'r') as f:\n",
    "    for row in f:\n",
    "        row = row.split()\n",
    "        cnts.append(len(row))\n",
    "        row = [int(r) for r in row]\n",
    "        parties.append(row)\n",
    "        for i in row:\n",
    "            if not i in node_labels:\n",
    "                node_labels[i] = set()\n",
    "            node_labels[i].add(row_idx)\n",
    "        row_idx += 1\n",
    "c = 0\n",
    "selected = []\n",
    "for i in range(len(cnts)):\n",
    "    if cnts[i] >= 5000:\n",
    "        c += 1\n",
    "        selected.append(i)\n",
    "\n",
    "s = set()\n",
    "tot = 0\n",
    "for i in selected:\n",
    "    for j in parties[i]:\n",
    "        s.add(j)\n",
    "    tot += len(parties[i])\n",
    "print c, len(s), tot"
   ]
  },
  {
   "cell_type": "code",
   "execution_count": 134,
   "metadata": {},
   "outputs": [
    {
     "data": {
      "text/plain": [
       "75149"
      ]
     },
     "execution_count": 134,
     "metadata": {},
     "output_type": "execute_result"
    }
   ],
   "source": [
    "row_idx"
   ]
  },
  {
   "cell_type": "code",
   "execution_count": 129,
   "metadata": {},
   "outputs": [],
   "source": [
    "adj_list = {}\n",
    "node_map = {}\n",
    "node_names = []\n",
    "with open('../../dropbox/raw_data/%s/com-%s.ungraph.txt' % (dataset, dataset), 'r') as f:\n",
    "    for row in f:\n",
    "        if row[0] == '#':\n",
    "            continue\n",
    "        row = [int(r) for r in row.split()]\n",
    "        if not row[0] in adj_list:\n",
    "            adj_list[row[0]] = []\n",
    "        if not row[1] in adj_list:\n",
    "            adj_list[row[1]] = []\n",
    "        if not row[0] in node_map:\n",
    "            idx = len(node_map)\n",
    "            node_map[row[0]] = idx\n",
    "            node_names.append(row[0])\n",
    "        if not row[1] in node_map:\n",
    "            idx = len(node_map)\n",
    "            node_map[row[1]] = idx\n",
    "            node_names.append(row[1])\n",
    "        adj_list[row[0]].append(row[1])\n",
    "        adj_list[row[1]].append(row[0])"
   ]
  },
  {
   "cell_type": "code",
   "execution_count": 130,
   "metadata": {},
   "outputs": [],
   "source": [
    "output_folder = '../../dropbox/data/%s-%s' % (dataset, ss)\n",
    "if not os.path.isdir(output_folder):\n",
    "    os.makedirs(output_folder)\n",
    "    \n",
    "with open(output_folder + '/meta.txt', 'w') as f:\n",
    "    f.write('%d %d\\n' % (len(node_map), len(selected)))\n",
    "\n",
    "with open(output_folder + '/adj_list.txt', 'w') as f:\n",
    "    for i in range(len(node_map)):\n",
    "        node = node_names[i]\n",
    "        f.write('%d' % len(adj_list[node]))\n",
    "        for j in adj_list[node]:\n",
    "            f.write(' %d' % node_map[j])\n",
    "        f.write('\\n')"
   ]
  },
  {
   "cell_type": "code",
   "execution_count": 131,
   "metadata": {},
   "outputs": [
    {
     "name": "stdout",
     "output_type": "stream",
     "text": [
      "282848\n",
      "746398.0\n"
     ]
    }
   ],
   "source": [
    "num_nodes = len(node_map)\n",
    "\n",
    "with open(output_folder + '/label.txt', 'w') as f:\n",
    "    for i in range(num_nodes):\n",
    "        for j in range(len(selected)):\n",
    "            lb = selected[j]\n",
    "            node = node_names[i]\n",
    "            if node in node_labels and lb in node_labels[node]:\n",
    "                f.write('1 ')\n",
    "            else:\n",
    "                f.write('0 ')\n",
    "        if node in s:\n",
    "            assert len(node_labels[node])\n",
    "        f.write('\\n')\n",
    "        \n",
    "labels = np.loadtxt(output_folder + '/label.txt')\n",
    "c = 0\n",
    "idxes = []\n",
    "for i in range(labels.shape[0]):\n",
    "    if np.sum(labels[i, :]) > 0:\n",
    "        c += 1\n",
    "        idxes.append(i)\n",
    "print c\n",
    "print np.sum(labels)"
   ]
  },
  {
   "cell_type": "code",
   "execution_count": 132,
   "metadata": {},
   "outputs": [],
   "source": [
    "idxes = [node_map[i] for i in s]\n",
    "for i in idxes:\n",
    "    assert len(node_labels[node_names[i]])\n",
    "random.shuffle(idxes)\n",
    "t = int(len(idxes) * 0.9)\n",
    "with open(output_folder + '/test_idx.txt', 'w') as f:\n",
    "    for i in range(t, len(idxes)):\n",
    "        f.write('%d\\n' % idxes[i])\n",
    "        \n",
    "for i in range(9):\n",
    "    frac = (i + 1) * 0.01\n",
    "    num_train = int(len(idxes) * frac)\n",
    "    with open(output_folder + '/train_idx-%.2f.txt' % frac, 'w') as f:\n",
    "        for i in range(num_train):\n",
    "            f.write('%d\\n' % idxes[i])\n",
    "            \n",
    "for i in range(9):\n",
    "    frac = (i + 1) * 0.1\n",
    "    num_train = int(len(idxes) * frac)\n",
    "    with open(output_folder + '/train_idx-%.1f.txt' % frac, 'w') as f:\n",
    "        for i in range(num_train):\n",
    "            f.write('%d\\n' % idxes[i])            "
   ]
  }
 ],
 "metadata": {
  "kernelspec": {
   "display_name": "Python 3",
   "language": "python",
   "name": "python3"
  },
  "language_info": {
   "codemirror_mode": {
    "name": "ipython",
    "version": 3
   },
   "file_extension": ".py",
   "mimetype": "text/x-python",
   "name": "python",
   "nbconvert_exporter": "python",
   "pygments_lexer": "ipython3",
   "version": "3.5.2"
  }
 },
 "nbformat": 4,
 "nbformat_minor": 1
}
