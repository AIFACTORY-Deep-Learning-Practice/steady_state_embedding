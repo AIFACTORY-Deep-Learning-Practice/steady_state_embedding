{
 "cells": [
  {
   "cell_type": "code",
   "execution_count": 11,
   "metadata": {
    "collapsed": true
   },
   "outputs": [],
   "source": [
    "import numpy as np\n",
    "import networkx as nx\n",
    "import os\n",
    "import random\n",
    "\n",
    "num_nodes = 1000000\n",
    "m = 4\n",
    "seed = 1"
   ]
  },
  {
   "cell_type": "code",
   "execution_count": 12,
   "metadata": {
    "collapsed": false
   },
   "outputs": [
    {
     "name": "stdout",
     "output_type": "stream",
     "text": [
      "True\n"
     ]
    }
   ],
   "source": [
    "g = nx.barabasi_albert_graph(n = num_nodes, m = m, seed = seed)\n",
    "print nx.is_connected(g)"
   ]
  },
  {
   "cell_type": "code",
   "execution_count": 13,
   "metadata": {
    "collapsed": false
   },
   "outputs": [],
   "source": [
    "scores = nx.pagerank(g, max_iter=100)\n",
    "x = np.zeros((len(scores)))\n",
    "for i in range(len(scores)):\n",
    "    x[i] = scores[i]\n",
    "\n",
    "x = np.array(x) * len(x)"
   ]
  },
  {
   "cell_type": "code",
   "execution_count": 16,
   "metadata": {
    "collapsed": false
   },
   "outputs": [],
   "source": [
    "output_folder = '../../dropbox/data/pr-%d-%d' % (num_nodes, m)\n",
    "if not os.path.isdir(output_folder):\n",
    "    os.makedirs(output_folder)\n",
    "\n",
    "with open(output_folder + '/pr-0.85.txt', 'w') as f:\n",
    "    for i in range(len(scores)):\n",
    "        f.write('%.6f\\n' % (scores[i] * len(scores)))\n",
    "        \n",
    "with open(output_folder + '/adj_list.txt', 'w') as f:\n",
    "    for i in range(len(g)):\n",
    "        neighbors = g.neighbors(i)\n",
    "        f.write('%d' % len(neighbors))\n",
    "        for j in neighbors:\n",
    "            f.write(' %d' % j)\n",
    "        f.write('\\n')\n",
    "\n",
    "with open(output_folder + '/meta.txt', 'w') as f:\n",
    "    f.write('%d 1\\n' % num_nodes)"
   ]
  },
  {
   "cell_type": "code",
   "execution_count": 18,
   "metadata": {
    "collapsed": false
   },
   "outputs": [],
   "source": [
    "output_folder = '../../dropbox/data/pr-%d-%d' % (num_nodes, m)\n",
    "\n",
    "idxes = range(num_nodes)\n",
    "random.shuffle(idxes)\n",
    "\n",
    "t = int(len(idxes) * 0.9)    \n",
    "\n",
    "with open(output_folder + '/test_idx.txt', 'w') as f:\n",
    "    for i in range(t, len(idxes)):\n",
    "        f.write('%d\\n' % idxes[i])\n",
    "\n",
    "for i in range(9):\n",
    "    frac = (i + 1) * 0.1\n",
    "    num_train = int(len(idxes) * frac)\n",
    "    with open(output_folder + '/train_idx-%.1f.txt' % frac, 'w') as f:\n",
    "        for i in range(num_train):\n",
    "            f.write('%d\\n' % idxes[i])"
   ]
  },
  {
   "cell_type": "code",
   "execution_count": 14,
   "metadata": {
    "collapsed": false
   },
   "outputs": [
    {
     "name": "stdout",
     "output_type": "stream",
     "text": [
      "0.975714\n",
      "975714\n"
     ]
    },
    {
     "data": {
      "image/png": "[encoded data removed]",
      "text/plain": [
       "<matplotlib.figure.Figure at 0x7fcd1095f890>"
      ]
     },
     "metadata": {},
     "output_type": "display_data"
    }
   ],
   "source": [
    "%matplotlib inline\n",
    "\n",
    "import matplotlib\n",
    "import numpy as np\n",
    "import matplotlib.pyplot as plt\n",
    "\n",
    "x = x[np.where(x < 3.5)]\n",
    "n, bins, patches = plt.hist(x, 200, normed=1, alpha=0.75)\n",
    "plt.xlabel('Scaled PageRank Score')\n",
    "plt.ylabel('Percentage/%')\n",
    "plt.grid(True)\n",
    "ax = plt.gca()\n",
    "for item in ([ax.xaxis.label, ax.yaxis.label] +\n",
    "             ax.get_xticklabels() + ax.get_yticklabels()):\n",
    "    item.set_fontsize(14)\n",
    "# plt.savefig('ba_%d_%d_hist.pdf' % (num_nodes, m), bbox_inches='tight')\n",
    "# plt.show()\n",
    "print len(x) / float(len(scores))\n",
    "print len(x)"
   ]
  }
 ],
 "metadata": {
  "kernelspec": {
   "display_name": "Python 2",
   "language": "python",
   "name": "python2"
  },
  "language_info": {
   "codemirror_mode": {
    "name": "ipython",
    "version": 2
   },
   "file_extension": ".py",
   "mimetype": "text/x-python",
   "name": "python",
   "nbconvert_exporter": "python",
   "pygments_lexer": "ipython2",
   "version": "2.7.6"
  }
 },
 "nbformat": 4,
 "nbformat_minor": 0
}
