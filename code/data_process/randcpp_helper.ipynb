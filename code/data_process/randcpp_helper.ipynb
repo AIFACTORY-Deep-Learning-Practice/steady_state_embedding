{
 "cells": [
  {
   "cell_type": "code",
   "execution_count": 1,
   "metadata": {
    "collapsed": true
   },
   "outputs": [],
   "source": [
    "import numpy as np\n",
    "import networkx as nx\n",
    "import os\n",
    "import random\n",
    "\n",
    "\n",
    "n = 10000000\n",
    "m = 1\n",
    "g_type='ba'\n",
    "strp = '0'\n",
    "p = float(strp)\n",
    "\n",
    "data_root = '../../dropbox/data/pr-%d-%d' % (n, m)"
   ]
  },
  {
   "cell_type": "code",
   "execution_count": 20,
   "metadata": {
    "collapsed": false
   },
   "outputs": [],
   "source": [
    "\n",
    "g = nx.read_edgelist(data_root + '/edge_list.txt')\n",
    "        "
   ]
  },
  {
   "cell_type": "code",
   "execution_count": 21,
   "metadata": {
    "collapsed": false
   },
   "outputs": [],
   "source": [
    "scores = nx.pagerank(g, max_iter=100)\n"
   ]
  },
  {
   "cell_type": "code",
   "execution_count": 22,
   "metadata": {
    "collapsed": false
   },
   "outputs": [],
   "source": [
    "x = np.zeros((len(scores)))\n",
    "for i in range(len(scores)):\n",
    "    x[i] = scores[str(i)]\n",
    "\n",
    "x = np.array(x) * len(x)"
   ]
  },
  {
   "cell_type": "code",
   "execution_count": 39,
   "metadata": {
    "collapsed": false
   },
   "outputs": [
    {
     "data": {
      "text/plain": [
       "0.00017817443628057131"
      ]
     },
     "execution_count": 39,
     "metadata": {},
     "output_type": "execute_result"
    }
   ],
   "source": [
    "x2 = np.loadtxt(data_root + '/pr-0.85.txt')\n",
    "\n",
    "np.mean(np.abs(x2 - x))"
   ]
  },
  {
   "cell_type": "code",
   "execution_count": 9,
   "metadata": {
    "collapsed": false
   },
   "outputs": [],
   "source": [
    "n = 10000000\n",
    "m = 4\n",
    "g_type='ba'\n",
    "\n",
    "data_root = '../../dropbox/data/pr-%s-%d-%d' % (g_type, n, m)\n",
    "\n",
    "\n",
    "output_folder = data_root\n",
    "num_nodes = n\n",
    "idxes = range(num_nodes)\n",
    "random.shuffle(idxes)\n",
    "\n",
    "t = int(len(idxes) * 0.9)    \n",
    "\n",
    "with open(output_folder + '/test_idx.txt', 'w') as f:\n",
    "    for i in range(t, len(idxes)):\n",
    "        f.write('%d\\n' % idxes[i])\n",
    "\n",
    "for i in range(9):\n",
    "    frac = (i + 1) * 0.1\n",
    "    num_train = int(len(idxes) * frac)\n",
    "    with open(output_folder + '/train_idx-%.1f.txt' % frac, 'w') as f:\n",
    "        for i in range(num_train):\n",
    "            f.write('%d\\n' % idxes[i])"
   ]
  },
  {
   "cell_type": "code",
   "execution_count": 18,
   "metadata": {
    "collapsed": false
   },
   "outputs": [
    {
     "name": "stdout",
     "output_type": "stream",
     "text": [
      "0.975754\n",
      "975754\n"
     ]
    },
    {
     "data": {
      "image/png": "[encoded data removed]",
      "text/plain": [
       "<matplotlib.figure.Figure at 0x7f40a7e799d0>"
      ]
     },
     "metadata": {},
     "output_type": "display_data"
    }
   ],
   "source": [
    "%matplotlib inline\n",
    "\n",
    "import matplotlib\n",
    "import numpy as np\n",
    "import matplotlib.pyplot as plt\n",
    "\n",
    "x = x[np.where(x < 3.5)]\n",
    "n, bins, patches = plt.hist(x, 200, normed=1, alpha=0.75)\n",
    "plt.xlabel('Scaled PageRank Score')\n",
    "plt.ylabel('Percentage/%')\n",
    "plt.grid(True)\n",
    "ax = plt.gca()\n",
    "for item in ([ax.xaxis.label, ax.yaxis.label] +\n",
    "             ax.get_xticklabels() + ax.get_yticklabels()):\n",
    "    item.set_fontsize(14)\n",
    "# plt.savefig('ba_%d_%d_hist.pdf' % (num_nodes, m), bbox_inches='tight')\n",
    "# plt.show()\n",
    "print len(x) / float(len(scores))\n",
    "print len(x)"
   ]
  }
 ],
 "metadata": {
  "kernelspec": {
   "display_name": "Python 2",
   "language": "python",
   "name": "python2"
  },
  "language_info": {
   "codemirror_mode": {
    "name": "ipython",
    "version": 2
   },
   "file_extension": ".py",
   "mimetype": "text/x-python",
   "name": "python",
   "nbconvert_exporter": "python",
   "pygments_lexer": "ipython2",
   "version": "2.7.6"
  }
 },
 "nbformat": 4,
 "nbformat_minor": 0
}
